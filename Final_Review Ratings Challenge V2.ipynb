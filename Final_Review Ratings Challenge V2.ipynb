{
 "cells": [
  {
   "cell_type": "markdown",
   "metadata": {},
   "source": [
    "# Review Ratings Challenge"
   ]
  },
  {
   "cell_type": "markdown",
   "metadata": {},
   "source": [
    "**Task:** Import review_ratings_headers.txt file"
   ]
  },
  {
   "cell_type": "code",
   "execution_count": 1,
   "metadata": {},
   "outputs": [],
   "source": [
    "f = open('review_ratings_headers.txt', 'r')"
   ]
  },
  {
   "cell_type": "markdown",
   "metadata": {},
   "source": [
    "**Task:**\n",
    "1. Extract \"user\" and \"id\" from the first line and combine with an underscore.\n",
    "1. In each line after the first line, extract the word(s) after \"on\" in each line, removing special characters (e.g. /n, &, etc.). \n",
    "1. If there is more than one word, combine the words with a single underscore. \n",
    "1. Put the words into a list to use as headers for your dataset later."
   ]
  },
  {
   "cell_type": "code",
   "execution_count": 2,
   "metadata": {},
   "outputs": [],
   "source": [
    "\n",
    "listOfLines = f.read().split('\\n')\n",
    "#print(f)\n",
    "#print(listOfLines)\n",
    "userindex=listOfLines[0].find('user')\n",
    "idindex=listOfLines[0].find('id')\n",
    "userstring=listOfLines[0][userindex:userindex+4]\n",
    "idstring=listOfLines[0][idindex:idindex+2]\n",
    "#print(userstring)\n",
    "#print(idstring)\n",
    "useridstring=userstring+'_'+idstring\n",
    "#print(useridstring)\n",
    "\n",
    "\n",
    "#Task2,3,4\n",
    "\n",
    "listOfWords=[]\n",
    "listOfWords.append(useridstring)\n",
    "#we are starting count with 1 as 'user_id' is also a part of header.\n",
    "countwordswith_=1; #for counting the number of words with '_'\n",
    "count_=1  #for counting number of _\n",
    "\n",
    "from string import punctuation\n",
    "listOfSC=list(punctuation)\n",
    "\n",
    "for i in range(1,len(listOfLines)):\n",
    "    wordstring=listOfLines[i].split('on ')[1]\n",
    "    wordstring=wordstring.strip()\n",
    "    #print(wordstring)\n",
    "    for j in listOfSC:\n",
    "        wordstring=wordstring.replace(j,'_')\n",
    "    wordstring=wordstring.replace(' _ ',' ')\n",
    "    wordstring=wordstring.replace(' ','_')\n",
    "    if wordstring.find('_')!=-1:\n",
    "        countwordswith_=countwordswith_+1\n",
    "    listOfWords.append(wordstring)\n",
    "    count_=count_ + len(wordstring.split('_')) -1\n"
   ]
  },
  {
   "cell_type": "markdown",
   "metadata": {},
   "source": [
    "Question 1: How many headers are there with 2 or more words combined by an underscore?"
   ]
  },
  {
   "cell_type": "code",
   "execution_count": 3,
   "metadata": {},
   "outputs": [
    {
     "name": "stdout",
     "output_type": "stream",
     "text": [
      "11\n"
     ]
    }
   ],
   "source": [
    "print(countwordswith_)"
   ]
  },
  {
   "cell_type": "markdown",
   "metadata": {},
   "source": [
    "Question 2: How many underscores are there in all of the headers? "
   ]
  },
  {
   "cell_type": "code",
   "execution_count": 4,
   "metadata": {},
   "outputs": [
    {
     "name": "stdout",
     "output_type": "stream",
     "text": [
      "13\n"
     ]
    }
   ],
   "source": [
    "print(count_)"
   ]
  },
  {
   "cell_type": "markdown",
   "metadata": {},
   "source": [
    "**Task:** Read in review_ratings.csv, set names as the cleaned headers list from above, skip the first row, and do not include an index column"
   ]
  },
  {
   "cell_type": "code",
   "execution_count": 5,
   "metadata": {},
   "outputs": [],
   "source": [
    "import pandas as pd\n",
    "\n",
    "\n",
    "reviewfile=pd.read_csv(\"review_ratings.csv\",names=listOfWords,skiprows = [0],index_col=False)\n",
    "\n",
    "\n",
    "\n"
   ]
  },
  {
   "cell_type": "markdown",
   "metadata": {},
   "source": [
    "Question 3: How many rows are in the ratings dataset?"
   ]
  },
  {
   "cell_type": "code",
   "execution_count": 6,
   "metadata": {},
   "outputs": [
    {
     "name": "stdout",
     "output_type": "stream",
     "text": [
      "4624\n"
     ]
    }
   ],
   "source": [
    "# number of rows in the dataset\n",
    "print(len(reviewfile))"
   ]
  },
  {
   "cell_type": "markdown",
   "metadata": {},
   "source": [
    "**Task:** Import review_ratings_with_headers.csv"
   ]
  },
  {
   "cell_type": "code",
   "execution_count": 7,
   "metadata": {},
   "outputs": [],
   "source": [
    "newfile=pd.read_csv('review_ratings_with_headers.csv')"
   ]
  },
  {
   "cell_type": "markdown",
   "metadata": {},
   "source": [
    "**Task:** Explore data types in the dataset"
   ]
  },
  {
   "cell_type": "code",
   "execution_count": 8,
   "metadata": {},
   "outputs": [
    {
     "name": "stdout",
     "output_type": "stream",
     "text": [
      "<class 'numpy.float64'>\n",
      "<class 'str'>\n"
     ]
    }
   ],
   "source": [
    "differentdatatypes=set()\n",
    "\n",
    "for i in newfile:\n",
    "    for j in range(0,len(newfile[i])):\n",
    "        differentdatatypes.add(type(newfile[i][j]))\n",
    "    \n",
    "for i in differentdatatypes:\n",
    "    print(i)\n"
   ]
  },
  {
   "cell_type": "markdown",
   "metadata": {},
   "source": [
    "Question 4: What data type is **parks**?"
   ]
  },
  {
   "cell_type": "code",
   "execution_count": 9,
   "metadata": {},
   "outputs": [
    {
     "name": "stdout",
     "output_type": "stream",
     "text": [
      "<class 'numpy.float64'>\n"
     ]
    }
   ],
   "source": [
    "\n",
    "print(type(newfile['parks'][0]))\n"
   ]
  },
  {
   "cell_type": "markdown",
   "metadata": {},
   "source": [
    "**Task:** Find special characters that are in one of the columns, replace with 0, and convert to continuous/float type"
   ]
  },
  {
   "cell_type": "code",
   "execution_count": 10,
   "metadata": {},
   "outputs": [
    {
     "name": "stderr",
     "output_type": "stream",
     "text": [
      "C:\\Users\\Programero\\Anaconda3\\lib\\site-packages\\ipykernel_launcher.py:15: SettingWithCopyWarning: \n",
      "A value is trying to be set on a copy of a slice from a DataFrame\n",
      "\n",
      "See the caveats in the documentation: http://pandas.pydata.org/pandas-docs/stable/indexing.html#indexing-view-versus-copy\n",
      "  from ipykernel import kernelapp as app\n",
      "C:\\Users\\Programero\\Anaconda3\\lib\\site-packages\\ipykernel_launcher.py:19: SettingWithCopyWarning: \n",
      "A value is trying to be set on a copy of a slice from a DataFrame\n",
      "\n",
      "See the caveats in the documentation: http://pandas.pydata.org/pandas-docs/stable/indexing.html#indexing-view-versus-copy\n"
     ]
    }
   ],
   "source": [
    "#columns with special characters\n",
    "setOfColWithSC=set()\n",
    "#columns with NaN\n",
    "setOfColWithNan=set()\n",
    "\n",
    "import numpy as np\n",
    "\n",
    "\n",
    "\n",
    "\n",
    "for i in newfile:\n",
    "    for j in range(0,len(newfile[i])):            \n",
    "        if(type(newfile[i][j])==type('') and i!='user_id'):\n",
    "            try:\n",
    "                newfile[i][j]=float(newfile[i][j])\n",
    "                \n",
    "\n",
    "            except ValueError:\n",
    "                newfile[i][j]=float(0)\n",
    "                #print(\"setting value for \",i,\" with row number \",j)\n",
    "                setOfColWithSC.add(i)\n"
   ]
  },
  {
   "cell_type": "markdown",
   "metadata": {},
   "source": [
    "Question 5: What was the variable that contained special characters?"
   ]
  },
  {
   "cell_type": "code",
   "execution_count": 11,
   "metadata": {},
   "outputs": [
    {
     "name": "stdout",
     "output_type": "stream",
     "text": [
      "art_galleries\n"
     ]
    }
   ],
   "source": [
    "#print columns with Special Characters\n",
    "for i in setOfColWithSC:\n",
    "    print(i)"
   ]
  },
  {
   "cell_type": "markdown",
   "metadata": {},
   "source": [
    "Question 6: What is the mean of the variable now that it has been converted to type continuous/float?"
   ]
  },
  {
   "cell_type": "code",
   "execution_count": 12,
   "metadata": {},
   "outputs": [
    {
     "name": "stdout",
     "output_type": "stream",
     "text": [
      "2.203406141868526\n"
     ]
    }
   ],
   "source": [
    "for i in setOfColWithSC:\n",
    "    print(newfile[i].mean())"
   ]
  },
  {
   "cell_type": "markdown",
   "metadata": {},
   "source": [
    "**Task:** Fill missing values with 0 and run summary statistics on the dataset"
   ]
  },
  {
   "cell_type": "code",
   "execution_count": 13,
   "metadata": {},
   "outputs": [
    {
     "name": "stdout",
     "output_type": "stream",
     "text": [
      "          churches      resorts      beaches        parks     theatres  \\\n",
      "count  4624.000000  4624.000000  4624.000000  4624.000000  4624.000000   \n",
      "mean      1.455822     2.317331     2.482007     2.796265     2.953977   \n",
      "std       0.819186     1.418414     1.242288     1.313560     1.338313   \n",
      "min       0.000000     0.000000     0.000000     0.830000     1.120000   \n",
      "25%       0.920000     1.360000     1.540000     1.720000     1.770000   \n",
      "50%       1.330000     1.890000     2.060000     2.450000     2.660000   \n",
      "75%       1.810000     2.670000     2.730000     4.110000     4.310000   \n",
      "max       5.000000     5.000000     5.000000     5.000000     5.000000   \n",
      "\n",
      "           museums        malls          zoo  restaurants    pubs_bars  ...  \\\n",
      "count  4624.000000  4624.000000  4624.000000  4624.000000  4624.000000  ...   \n",
      "mean      2.893343     3.354189     2.548054     3.144027     2.841808  ...   \n",
      "std       1.281503     1.413699     1.112429     1.357523     1.309914  ...   \n",
      "min       1.110000     1.120000     0.860000     0.840000     0.810000  ...   \n",
      "25%       1.780000     1.930000     1.620000     1.800000     1.640000  ...   \n",
      "50%       2.685000     3.230000     2.190000     2.820000     2.690000  ...   \n",
      "75%       3.830000     5.000000     3.200000     5.000000     3.560000  ...   \n",
      "max       5.000000     5.000000     5.000000     5.000000     5.000000  ...   \n",
      "\n",
      "        juice_bars  dance_clubs  swimming_pools         gyms     bakeries  \\\n",
      "count  4624.000000  4624.000000     4624.000000  4624.000000  4624.000000   \n",
      "mean      2.188540     1.194271        0.954007     0.825424     0.960783   \n",
      "std       1.578244     1.108272        0.980365     0.953209     1.186662   \n",
      "min       0.760000     0.000000        0.000000     0.000000     0.000000   \n",
      "25%       1.030000     0.690000        0.580000     0.530000     0.520000   \n",
      "50%       1.490000     0.800000        0.740000     0.680000     0.690000   \n",
      "75%       2.740000     1.160000        0.920000     0.840000     0.860000   \n",
      "max       5.000000     5.000000        5.000000     5.000000     5.000000   \n",
      "\n",
      "       beauty_spas        cafes  view_points    monuments      gardens  \n",
      "count  4624.000000  4624.000000  4624.000000  4624.000000  4624.000000  \n",
      "mean      0.993854     0.973227     1.758545     1.535264     1.561068  \n",
      "std       1.188229     0.931104     1.598310     1.314480     1.164068  \n",
      "min       0.000000     0.000000     0.000000     0.000000     0.000000  \n",
      "25%       0.540000     0.570000     0.750000     0.800000     0.890000  \n",
      "50%       0.690000     0.770000     1.040000     1.070000     1.290000  \n",
      "75%       0.860000     1.010000     2.080000     1.560000     1.650000  \n",
      "max       5.000000     5.000000     5.000000     5.000000     5.000000  \n",
      "\n",
      "[8 rows x 23 columns]\n"
     ]
    },
    {
     "name": "stderr",
     "output_type": "stream",
     "text": [
      "C:\\Users\\Programero\\Anaconda3\\lib\\site-packages\\ipykernel_launcher.py:9: SettingWithCopyWarning: \n",
      "A value is trying to be set on a copy of a slice from a DataFrame\n",
      "\n",
      "See the caveats in the documentation: http://pandas.pydata.org/pandas-docs/stable/indexing.html#indexing-view-versus-copy\n",
      "  if __name__ == '__main__':\n"
     ]
    }
   ],
   "source": [
    "for i in newfile:\n",
    "    indx=-1\n",
    "    for j in newfile[i].isnull():\n",
    "        if(j==False):\n",
    "            indx=indx+1\n",
    "\n",
    "        else:\n",
    "            indx=indx+1\n",
    "            newfile[i][indx]=float(0)\n",
    "            setOfColWithNan.add(i)\n",
    "\n",
    "print(newfile.describe())\n"
   ]
  },
  {
   "cell_type": "markdown",
   "metadata": {},
   "source": [
    "Question 7: What is the IQR of ratings for **hotels_other_lodgings**?"
   ]
  },
  {
   "cell_type": "code",
   "execution_count": 14,
   "metadata": {},
   "outputs": [
    {
     "name": "stdout",
     "output_type": "stream",
     "text": [
      "1.1600000000000001\n"
     ]
    }
   ],
   "source": [
    "# Computing IQR\n",
    "Q1 = newfile['hotels_other_lodgings'].quantile(0.25)\n",
    "Q3 = newfile['hotels_other_lodgings'].quantile(0.75)\n",
    "IQR = Q3 - Q1\n",
    "\n",
    "print(IQR)\n"
   ]
  },
  {
   "cell_type": "markdown",
   "metadata": {},
   "source": [
    "**Task:** Import review_ratings_processed.csv"
   ]
  },
  {
   "cell_type": "code",
   "execution_count": 23,
   "metadata": {},
   "outputs": [],
   "source": [
    "processedfile= pd.read_csv('review_ratings_processed.csv')"
   ]
  },
  {
   "cell_type": "markdown",
   "metadata": {},
   "source": [
    "**Task:** Find the variables that are most correlated with each other"
   ]
  },
  {
   "cell_type": "code",
   "execution_count": 24,
   "metadata": {},
   "outputs": [],
   "source": [
    "corrarr=(processedfile.corr(method ='pearson'))\n",
    "max=-1\n",
    "maxi=''\n",
    "maxj=''\n",
    "for i in corrarr:\n",
    "    for j in corrarr:\n",
    "        if i!=j and corrarr[i][j]>max:\n",
    "            max=corrarr[i][j]\n",
    "            maxi=i\n",
    "            maxj=j\n",
    "        \n",
    "            "
   ]
  },
  {
   "cell_type": "markdown",
   "metadata": {},
   "source": [
    "Question 8: Which variables are the the most **positively** correlated?"
   ]
  },
  {
   "cell_type": "code",
   "execution_count": 30,
   "metadata": {},
   "outputs": [
    {
     "name": "stdout",
     "output_type": "stream",
     "text": [
      "parks and theatres are most positively correlated\n"
     ]
    }
   ],
   "source": [
    "print(maxi + \" and \" + maxj +\" are most positively correlated\")"
   ]
  },
  {
   "cell_type": "markdown",
   "metadata": {},
   "source": [
    "**Task:** Group each variable into 10 equal-width bins and calculate the **mean malls** rating for each bin"
   ]
  },
  {
   "cell_type": "code",
   "execution_count": 143,
   "metadata": {},
   "outputs": [
    {
     "name": "stdout",
     "output_type": "stream",
     "text": [
      "churchesbins\n",
      "(-0.005, 0.5]    0.024390\n",
      "(0.5, 1.0]       0.788094\n",
      "(1.0, 1.5]       1.281651\n",
      "(1.5, 2.0]       1.734463\n",
      "(2.0, 2.5]       2.215174\n",
      "(2.5, 3.0]       2.629553\n",
      "(3.0, 3.5]       3.252500\n",
      "(3.5, 4.0]       3.658750\n",
      "(4.0, 4.5]       4.430667\n",
      "(4.5, 5.0]       4.921467\n",
      "Name: churches, dtype: float64\n",
      "resortsbins\n",
      "(-0.005, 0.5]    0.048193\n",
      "(0.5, 1.0]       0.760717\n",
      "(1.0, 1.5]       1.338556\n",
      "(1.5, 2.0]       1.708710\n",
      "(2.0, 2.5]       2.248995\n",
      "(2.5, 3.0]       2.683553\n",
      "(3.0, 3.5]       3.102778\n",
      "(3.5, 4.0]       3.767807\n",
      "(4.0, 4.5]       4.086364\n",
      "(4.5, 5.0]       4.983675\n",
      "Name: resorts, dtype: float64\n",
      "beachesbins\n",
      "(-0.005, 0.5]    0.250000\n",
      "(0.5, 1.0]       0.799275\n",
      "(1.0, 1.5]       1.390514\n",
      "(1.5, 2.0]       1.717633\n",
      "(2.0, 2.5]       2.256393\n",
      "(2.5, 3.0]       2.677226\n",
      "(3.0, 3.5]       3.156118\n",
      "(3.5, 4.0]       3.754068\n",
      "(4.0, 4.5]       4.107895\n",
      "(4.5, 5.0]       4.986430\n",
      "Name: beaches, dtype: float64\n",
      "parksbins\n",
      "(0.826, 1.247]    1.177436\n",
      "(1.247, 1.664]    1.447898\n",
      "(1.664, 2.081]    1.889646\n",
      "(2.081, 2.498]    2.294893\n",
      "(2.498, 2.915]    2.677916\n",
      "(2.915, 3.332]    3.209773\n",
      "(3.332, 3.749]    3.607593\n",
      "(3.749, 4.166]    4.105963\n",
      "(4.166, 4.583]    4.217103\n",
      "(4.583, 5.0]      4.986010\n",
      "Name: parks, dtype: float64\n",
      "theatresbins\n",
      "(1.116, 1.508]    1.391528\n",
      "(1.508, 1.896]    1.700732\n",
      "(1.896, 2.284]    2.018772\n",
      "(2.284, 2.672]    2.588139\n",
      "(2.672, 3.06]     2.829717\n",
      "(3.06, 3.448]     3.197111\n",
      "(3.448, 3.836]    3.639020\n",
      "(3.836, 4.224]    4.028202\n",
      "(4.224, 4.612]    4.293464\n",
      "(4.612, 5.0]      4.990344\n",
      "Name: theatres, dtype: float64\n",
      "museumsbins\n",
      "(1.106, 1.499]    1.379158\n",
      "(1.499, 1.888]    1.701938\n",
      "(1.888, 2.277]    2.036891\n",
      "(2.277, 2.666]    2.492935\n",
      "(2.666, 3.055]    2.813358\n",
      "(3.055, 3.444]    3.210835\n",
      "(3.444, 3.833]    3.762791\n",
      "(3.833, 4.222]    4.045529\n",
      "(4.222, 4.611]    4.405540\n",
      "(4.611, 5.0]      4.988946\n",
      "Name: museums, dtype: float64\n",
      "mallsbins\n",
      "(1.116, 1.508]    1.340558\n",
      "(1.508, 1.896]    1.712772\n",
      "(1.896, 2.284]    2.064079\n",
      "(2.284, 2.672]    2.501687\n",
      "(2.672, 3.06]     2.870000\n",
      "(3.06, 3.448]     3.232071\n",
      "(3.448, 3.836]    3.774000\n",
      "(3.836, 4.224]    4.101765\n",
      "(4.224, 4.612]    4.383824\n",
      "(4.612, 5.0]      4.990811\n",
      "Name: malls, dtype: float64\n",
      "zoobins\n",
      "(0.856, 1.274]    1.106786\n",
      "(1.274, 1.688]    1.483404\n",
      "(1.688, 2.102]    1.864769\n",
      "(2.102, 2.516]    2.257725\n",
      "(2.516, 2.93]     2.749676\n",
      "(2.93, 3.344]     3.133029\n",
      "(3.344, 3.758]    3.542632\n",
      "(3.758, 4.172]    4.002938\n",
      "(4.172, 4.586]    4.366575\n",
      "(4.586, 5.0]      4.991708\n",
      "Name: zoo, dtype: float64\n",
      "restaurantsbins\n",
      "(0.836, 1.256]    1.108710\n",
      "(1.256, 1.672]    1.494769\n",
      "(1.672, 2.088]    1.804937\n",
      "(2.088, 2.504]    2.370471\n",
      "(2.504, 2.92]     2.717345\n",
      "(2.92, 3.336]     3.149233\n",
      "(3.336, 3.752]    3.485340\n",
      "(3.752, 4.168]    3.943669\n",
      "(4.168, 4.584]    4.395833\n",
      "(4.584, 5.0]      4.996519\n",
      "Name: restaurants, dtype: float64\n",
      "pubs_barsbins\n",
      "(0.806, 1.229]    1.028275\n",
      "(1.229, 1.648]    1.479007\n",
      "(1.648, 2.067]    1.773068\n",
      "(2.067, 2.486]    2.303152\n",
      "(2.486, 2.905]    2.717871\n",
      "(2.905, 3.324]    3.118700\n",
      "(3.324, 3.743]    3.502753\n",
      "(3.743, 4.162]    3.843761\n",
      "(4.162, 4.581]    4.415789\n",
      "(4.581, 5.0]      4.997219\n",
      "Name: pubs_bars, dtype: float64\n",
      "local_servicesbins\n",
      "(0.776, 1.202]    0.945157\n",
      "(1.202, 1.624]    1.474527\n",
      "(1.624, 2.046]    1.787176\n",
      "(2.046, 2.468]    2.229790\n",
      "(2.468, 2.89]     2.701876\n",
      "(2.89, 3.312]     3.096154\n",
      "(3.312, 3.734]    3.390870\n",
      "(3.734, 4.156]    3.973960\n",
      "(4.156, 4.578]         NaN\n",
      "(4.578, 5.0]      4.999118\n",
      "Name: local_services, dtype: float64\n",
      "burger_pizza_shopsbins\n",
      "(0.776, 1.202]    0.918721\n",
      "(1.202, 1.624]    1.469641\n",
      "(1.624, 2.046]    1.782898\n",
      "(2.046, 2.468]    2.206964\n",
      "(2.468, 2.89]     2.666109\n",
      "(2.89, 3.312]     2.966667\n",
      "(3.312, 3.734]    3.588571\n",
      "(3.734, 4.156]    3.887987\n",
      "(4.156, 4.578]         NaN\n",
      "(4.578, 5.0]      4.984879\n",
      "Name: burger_pizza_shops, dtype: float64\n",
      "hotels_other_lodgingsbins\n",
      "(0.766, 1.193]    0.909003\n",
      "(1.193, 1.616]    1.458187\n",
      "(1.616, 2.039]    1.761894\n",
      "(2.039, 2.462]    2.228767\n",
      "(2.462, 2.885]    2.653682\n",
      "(2.885, 3.308]    3.028780\n",
      "(3.308, 3.731]    3.448571\n",
      "(3.731, 4.154]    3.877792\n",
      "(4.154, 4.577]    4.490000\n",
      "(4.577, 5.0]      4.994342\n",
      "Name: hotels_other_lodgings, dtype: float64\n",
      "juice_barsbins\n",
      "(0.756, 1.184]    0.923983\n",
      "(1.184, 1.608]    1.412450\n",
      "(1.608, 2.032]    1.757390\n",
      "(2.032, 2.456]    2.222033\n",
      "(2.456, 2.88]     2.661939\n",
      "(2.88, 3.304]     2.981111\n",
      "(3.304, 3.728]    3.605833\n",
      "(3.728, 4.152]    3.835981\n",
      "(4.152, 4.576]    4.262632\n",
      "(4.576, 5.0]      4.999645\n",
      "Name: juice_bars, dtype: float64\n",
      "art_galleriesbins\n",
      "(-0.005, 0.5]    0.222222\n",
      "(0.5, 1.0]       0.816407\n",
      "(1.0, 1.5]       1.233057\n",
      "(1.5, 2.0]       1.717430\n",
      "(2.0, 2.5]       2.149008\n",
      "(2.5, 3.0]       2.613077\n",
      "(3.0, 3.5]       3.353452\n",
      "(3.5, 4.0]       3.621948\n",
      "(4.0, 4.5]       4.358696\n",
      "(4.5, 5.0]       4.994875\n",
      "Name: art_galleries, dtype: float64\n",
      "dance_clubsbins\n",
      "(-0.005, 0.5]    0.030000\n",
      "(0.5, 1.0]       0.732776\n",
      "(1.0, 1.5]       1.216828\n",
      "(1.5, 2.0]       1.669638\n",
      "(2.0, 2.5]       2.353889\n",
      "(2.5, 3.0]       2.553810\n",
      "(3.0, 3.5]       3.343243\n",
      "(3.5, 4.0]       3.838235\n",
      "(4.0, 4.5]       4.187500\n",
      "(4.5, 5.0]       4.983333\n",
      "Name: dance_clubs, dtype: float64\n",
      "swimming_poolsbins\n",
      "(-0.005, 0.5]    0.089099\n",
      "(0.5, 1.0]       0.704132\n",
      "(1.0, 1.5]       1.232760\n",
      "(1.5, 2.0]       1.725179\n",
      "(2.0, 2.5]       2.304091\n",
      "(2.5, 3.0]       2.681667\n",
      "(3.0, 3.5]       3.240556\n",
      "(3.5, 4.0]       3.750000\n",
      "(4.0, 4.5]       4.150000\n",
      "(4.5, 5.0]       5.000000\n",
      "Name: swimming_pools, dtype: float64\n",
      "gymsbins\n",
      "(-0.005, 0.5]    0.038793\n",
      "(0.5, 1.0]       0.702380\n",
      "(1.0, 1.5]       1.241701\n",
      "(1.5, 2.0]       1.706250\n",
      "(2.0, 2.5]       2.361475\n",
      "(2.5, 3.0]       2.693158\n",
      "(3.0, 3.5]       3.155000\n",
      "(3.5, 4.0]       3.615000\n",
      "(4.0, 4.5]       4.218333\n",
      "(4.5, 5.0]       4.995341\n",
      "Name: gyms, dtype: float64\n",
      "bakeriesbins\n",
      "(-0.005, 0.5]    0.040356\n",
      "(0.5, 1.0]       0.700744\n",
      "(1.0, 1.5]       1.192867\n",
      "(1.5, 2.0]       1.715667\n",
      "(2.0, 2.5]       2.311810\n",
      "(2.5, 3.0]       2.719516\n",
      "(3.0, 3.5]       3.225000\n",
      "(3.5, 4.0]       3.610000\n",
      "(4.0, 4.5]       4.382632\n",
      "(4.5, 5.0]       4.998811\n",
      "Name: bakeries, dtype: float64\n",
      "beauty_spasbins\n",
      "(-0.005, 0.5]    0.030713\n",
      "(0.5, 1.0]       0.698448\n",
      "(1.0, 1.5]       1.147273\n",
      "(1.5, 2.0]       1.747260\n",
      "(2.0, 2.5]       2.284562\n",
      "(2.5, 3.0]       2.602000\n",
      "(3.0, 3.5]       3.227778\n",
      "(3.5, 4.0]       3.698421\n",
      "(4.0, 4.5]       4.333000\n",
      "(4.5, 5.0]       4.984737\n",
      "Name: beauty_spas, dtype: float64\n",
      "cafesbins\n",
      "(-0.005, 0.5]    0.045370\n",
      "(0.5, 1.0]       0.717887\n",
      "(1.0, 1.5]       1.190443\n",
      "(1.5, 2.0]       1.581963\n",
      "(2.0, 2.5]       2.311379\n",
      "(2.5, 3.0]       2.585000\n",
      "(3.0, 3.5]       3.380000\n",
      "(3.5, 4.0]       3.702059\n",
      "(4.0, 4.5]       4.375000\n",
      "(4.5, 5.0]       4.981515\n",
      "Name: cafes, dtype: float64\n",
      "view_pointsbins\n",
      "(-0.005, 0.5]    0.033333\n",
      "(0.5, 1.0]       0.759343\n",
      "(1.0, 1.5]       1.216111\n",
      "(1.5, 2.0]       1.687224\n",
      "(2.0, 2.5]       2.174521\n",
      "(2.5, 3.0]       2.736977\n",
      "(3.0, 3.5]       3.226078\n",
      "(3.5, 4.0]       3.648493\n",
      "(4.0, 4.5]       4.317193\n",
      "(4.5, 5.0]       4.980499\n",
      "Name: view_points, dtype: float64\n",
      "monumentsbins\n",
      "(-0.005, 0.5]    0.026202\n",
      "(0.5, 1.0]       0.778353\n",
      "(1.0, 1.5]       1.209672\n",
      "(1.5, 2.0]       1.727753\n",
      "(2.0, 2.5]       2.212750\n",
      "(2.5, 3.0]       2.609125\n",
      "(3.0, 3.5]       3.356500\n",
      "(3.5, 4.0]       3.662577\n",
      "(4.0, 4.5]       4.374667\n",
      "(4.5, 5.0]       4.971150\n",
      "Name: monuments, dtype: float64\n",
      "gardensbins\n",
      "(-0.005, 0.5]    0.013369\n",
      "(0.5, 1.0]       0.782487\n",
      "(1.0, 1.5]       1.269733\n",
      "(1.5, 2.0]       1.688070\n",
      "(2.0, 2.5]       2.232110\n",
      "(2.5, 3.0]       2.606803\n",
      "(3.0, 3.5]       3.266667\n",
      "(3.5, 4.0]       3.667544\n",
      "(4.0, 4.5]       4.400278\n",
      "(4.5, 5.0]       4.980627\n",
      "Name: gardens, dtype: float64\n"
     ]
    }
   ],
   "source": [
    "#mallbins=pd.cut(processedfile['malls'],10)\n",
    "pf_bins_df=pd.DataFrame()\n",
    "for i in processedfile:\n",
    "    if i != 'user_id':\n",
    "        colname= str(i) + \"bins\"\n",
    "        pf_bins_df[i]=processedfile[i]\n",
    "        pf_bins_df[colname]=pd.cut(processedfile[i],10)\n",
    "\n",
    "#print(pf_bins_df)\n",
    "\n",
    "\n",
    "#malldf=pd.DataFrame(processedfile['malls'])\n",
    "#malldf['mallsbins']=pf_bins_df['mallsbins']\n",
    "#malldf.groupby('mallsbins',as_index=False).mean()\n",
    "\n",
    "for i in processedfile:\n",
    "    if i == 'user_id':\n",
    "        continue\n",
    "    print(pf_bins_df.groupby(str(i) + \"bins\")[i].mean())"
   ]
  },
  {
   "cell_type": "markdown",
   "metadata": {},
   "source": [
    "Question 9: The chart on quanthub.com shows **mall** rating by which variable?"
   ]
  },
  {
   "cell_type": "code",
   "execution_count": null,
   "metadata": {},
   "outputs": [],
   "source": []
  },
  {
   "cell_type": "markdown",
   "metadata": {},
   "source": [
    "**Task:** Split the dataset into features that include all variables except **juice_bars** and user_id"
   ]
  },
  {
   "cell_type": "code",
   "execution_count": 144,
   "metadata": {},
   "outputs": [],
   "source": [
    "featureData=pd.DataFrame(processedfile)\n",
    "featureData=featureData.drop('user_id',axis=1)\n",
    "featureData=featureData.drop('juice_bars',axis=1)\n",
    "\n",
    "labelData=pd.DataFrame()\n",
    "#labelData['user_id']=processedfile['user_id']\n",
    "labelData['juice_bars']=processedfile['juice_bars']\n",
    "#print(labelData)"
   ]
  },
  {
   "cell_type": "markdown",
   "metadata": {},
   "source": [
    "**Task:** Set your seed to 42 and split the data into **80%** training and **20%** test sets "
   ]
  },
  {
   "cell_type": "code",
   "execution_count": 145,
   "metadata": {},
   "outputs": [],
   "source": [
    "from sklearn.model_selection import train_test_split\n",
    "\n",
    "featureData_train,featureData_test,labelData_train,labelData_test=train_test_split(featureData,labelData,test_size=0.2,random_state=42)\n"
   ]
  },
  {
   "cell_type": "markdown",
   "metadata": {},
   "source": [
    "**Task:** Set seed to 42 and fit a Random Forest with **10 trees/estimators** to the training set"
   ]
  },
  {
   "cell_type": "code",
   "execution_count": 146,
   "metadata": {},
   "outputs": [
    {
     "data": {
      "text/plain": [
       "RandomForestRegressor(bootstrap=True, criterion='mse', max_depth=None,\n",
       "           max_features='auto', max_leaf_nodes=None,\n",
       "           min_impurity_decrease=0.0, min_impurity_split=None,\n",
       "           min_samples_leaf=1, min_samples_split=2,\n",
       "           min_weight_fraction_leaf=0.0, n_estimators=10, n_jobs=None,\n",
       "           oob_score=False, random_state=42, verbose=0, warm_start=False)"
      ]
     },
     "execution_count": 146,
     "metadata": {},
     "output_type": "execute_result"
    }
   ],
   "source": [
    "from sklearn.ensemble import RandomForestRegressor\n",
    "\n",
    "rf = RandomForestRegressor(n_estimators = 10, random_state = 42)\n",
    "\n",
    "rf.fit(featureData_train, labelData_train['juice_bars'])"
   ]
  },
  {
   "cell_type": "markdown",
   "metadata": {},
   "source": [
    "Question 10: What R-Squared value did the model achieve on the test set?"
   ]
  },
  {
   "cell_type": "code",
   "execution_count": 147,
   "metadata": {},
   "outputs": [
    {
     "name": "stdout",
     "output_type": "stream",
     "text": [
      "0.7502168906163271\n"
     ]
    }
   ],
   "source": [
    "predictions_test = rf.predict(featureData_test)\n",
    "\n",
    "from sklearn.metrics import r2_score\n",
    "\n",
    "test_score = r2_score(labelData_test, predictions_test)\n",
    "\n",
    "print(test_score)"
   ]
  },
  {
   "cell_type": "markdown",
   "metadata": {},
   "source": [
    "**Task:** Predict **juice_bars** ratings for the full dataset (training and test combined) and append predictions to the table"
   ]
  },
  {
   "cell_type": "code",
   "execution_count": 148,
   "metadata": {},
   "outputs": [],
   "source": [
    "predictions_full = rf.predict(featureData_train.append(featureData_test))\n",
    "\n",
    "#print(predictions_full)\n",
    "\n",
    "#print(labelData_train.append(labelData_test))\n"
   ]
  },
  {
   "cell_type": "markdown",
   "metadata": {},
   "source": [
    "**Task:** Compute the squared residual for each user id, append to table and sort descending by squared residual "
   ]
  },
  {
   "cell_type": "code",
   "execution_count": 149,
   "metadata": {},
   "outputs": [],
   "source": [
    "from sklearn.metrics import mean_squared_error\n",
    "\n",
    "actual_full=labelData_train['juice_bars'].append(labelData_test['juice_bars'])\n",
    "\n",
    "lossArr=[]\n",
    "\n",
    "for i in range(0,len(actual_full)):\n",
    "    lossArr.append((actual_full[i]-predictions_full[i])*(actual_full[i]-predictions_full[i]))\n",
    "    \n",
    "lossArr.sort(reverse = True)\n"
   ]
  },
  {
   "cell_type": "markdown",
   "metadata": {},
   "source": [
    "Question 11: What is the value of the **top** loss?"
   ]
  },
  {
   "cell_type": "code",
   "execution_count": 150,
   "metadata": {},
   "outputs": [
    {
     "name": "stdout",
     "output_type": "stream",
     "text": [
      "17.892900000000004\n"
     ]
    }
   ],
   "source": [
    "print(lossArr[0])"
   ]
  },
  {
   "cell_type": "markdown",
   "metadata": {},
   "source": [
    "**Task:** Extract the first tree/estimator from the Random Forest Model"
   ]
  },
  {
   "cell_type": "code",
   "execution_count": null,
   "metadata": {},
   "outputs": [],
   "source": []
  },
  {
   "cell_type": "markdown",
   "metadata": {},
   "source": [
    "**Task:** Plot the decision tree with **max depth of 3**"
   ]
  },
  {
   "cell_type": "code",
   "execution_count": null,
   "metadata": {},
   "outputs": [],
   "source": []
  },
  {
   "cell_type": "markdown",
   "metadata": {},
   "source": [
    "Question 12: Which variables are included in the **2nd** level split?"
   ]
  },
  {
   "cell_type": "code",
   "execution_count": null,
   "metadata": {},
   "outputs": [],
   "source": []
  },
  {
   "cell_type": "markdown",
   "metadata": {},
   "source": [
    "**Task:** Create a sparse matrix with Location (e.g. resorts, beauty_spas, swimming_pools, etc.) on the rows and UserID on the columns with ratings as the values (fill any missing ratings for users with 0)"
   ]
  },
  {
   "cell_type": "code",
   "execution_count": null,
   "metadata": {},
   "outputs": [],
   "source": []
  },
  {
   "cell_type": "markdown",
   "metadata": {},
   "source": [
    "**Task:** Apply a brute-force K-Nearest Neighbors algorithm to the matrix with a cosine metric "
   ]
  },
  {
   "cell_type": "code",
   "execution_count": null,
   "metadata": {},
   "outputs": [],
   "source": []
  },
  {
   "cell_type": "markdown",
   "metadata": {},
   "source": [
    "Question 13: Which categories are included in the top 5 nearest neighbors to **museums**?"
   ]
  },
  {
   "cell_type": "code",
   "execution_count": null,
   "metadata": {},
   "outputs": [],
   "source": []
  }
 ],
 "metadata": {
  "kernelspec": {
   "display_name": "Python 3",
   "language": "python",
   "name": "python3"
  },
  "language_info": {
   "codemirror_mode": {
    "name": "ipython",
    "version": 3
   },
   "file_extension": ".py",
   "mimetype": "text/x-python",
   "name": "python",
   "nbconvert_exporter": "python",
   "pygments_lexer": "ipython3",
   "version": "3.7.3"
  }
 },
 "nbformat": 4,
 "nbformat_minor": 2
}
